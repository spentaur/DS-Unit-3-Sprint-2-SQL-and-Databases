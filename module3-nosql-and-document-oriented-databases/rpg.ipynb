{
 "cells": [
  {
   "cell_type": "code",
   "execution_count": 1,
   "metadata": {},
   "outputs": [
    {
     "data": {
      "text/plain": [
       "True"
      ]
     },
     "execution_count": 1,
     "metadata": {},
     "output_type": "execute_result"
    }
   ],
   "source": [
    "import pymongo\n",
    "import os\n",
    "import json\n",
    "from dotenv import load_dotenv\n",
    "import sys\n",
    "sys.path.insert(1, '../module1-introduction-to-sql')\n",
    "\n",
    "from rpg_queries import RPG\n",
    "\n",
    "load_dotenv()"
   ]
  },
  {
   "cell_type": "code",
   "execution_count": 2,
   "metadata": {},
   "outputs": [],
   "source": [
    "db_user = os.getenv(\"DB_USER\")\n",
    "db_password = os.getenv(\"DB_PASSWORD\")\n",
    "\n",
    "client = pymongo.MongoClient(\n",
    "    f\"mongodb+srv://{db_user}:\"\n",
    "    f\"{db_password}@cluster0-0jkyy.mongodb.net/rpg\"\n",
    "    \"?retryWrites=true&w=majority\")\n",
    "db = client.rpg"
   ]
  },
  {
   "cell_type": "code",
   "execution_count": 3,
   "metadata": {},
   "outputs": [],
   "source": [
    "rpg_collection = db.rpg_collection"
   ]
  },
  {
   "cell_type": "code",
   "execution_count": 4,
   "metadata": {},
   "outputs": [],
   "source": [
    "with open('rpg.json') as f:\n",
    "    file_data = json.load(f)"
   ]
  },
  {
   "cell_type": "code",
   "execution_count": 5,
   "metadata": {},
   "outputs": [
    {
     "data": {
      "text/plain": [
       "<pymongo.results.InsertManyResult at 0x1078a8320>"
      ]
     },
     "execution_count": 5,
     "metadata": {},
     "output_type": "execute_result"
    }
   ],
   "source": [
    "rpg_collection.insert_many(file_data.values())"
   ]
  },
  {
   "cell_type": "code",
   "execution_count": 15,
   "metadata": {},
   "outputs": [],
   "source": [
    "# get all fighters?\n",
    "\n",
    "q = {\"fighter\": {\"$exists\": True}}\n",
    "\n",
    "fighters = rpg_collection.find(q)\n",
    "count = rpg_collection.count_documents(q)"
   ]
  },
  {
   "cell_type": "code",
   "execution_count": 16,
   "metadata": {},
   "outputs": [
    {
     "name": "stdout",
     "output_type": "stream",
     "text": [
      "{'_id': ObjectId('5dd60f60b34e53ae86355165'), 'character_id': 1, 'name': 'Aliquid iste optio reiciendi', 'level': 0, 'exp': 0, 'hp': 10, 'strength': 1, 'intelligence': 1, 'dexterity': 1, 'wisdom': 1, 'fighter': {'using_shield': 0, 'rage': 100}, 'inventory': [{'name': 'Quos re', 'value': 0, 'weight': 0}, {'name': 'Dolores rem v', 'value': 0, 'weight': 0}, {'name': 'Alias laboriosam sapiente e', 'value': 0, 'weight': 0}]}\n"
     ]
    }
   ],
   "source": [
    "for fighter in fighters:\n",
    "    print(fighter)\n",
    "    break"
   ]
  },
  {
   "cell_type": "code",
   "execution_count": 17,
   "metadata": {},
   "outputs": [],
   "source": [
    "client.close()"
   ]
  }
 ],
 "metadata": {
  "kernelspec": {
   "display_name": "Python 3",
   "language": "python",
   "name": "python3"
  },
  "language_info": {
   "codemirror_mode": {
    "name": "ipython",
    "version": 3
   },
   "file_extension": ".py",
   "mimetype": "text/x-python",
   "name": "python",
   "nbconvert_exporter": "python",
   "pygments_lexer": "ipython3",
   "version": "3.7.5"
  }
 },
 "nbformat": 4,
 "nbformat_minor": 2
}
