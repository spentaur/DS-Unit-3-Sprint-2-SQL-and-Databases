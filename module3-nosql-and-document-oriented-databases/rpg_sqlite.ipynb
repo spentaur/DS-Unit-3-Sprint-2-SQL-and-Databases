{
 "cells": [
  {
   "cell_type": "code",
   "execution_count": 1,
   "metadata": {},
   "outputs": [],
   "source": [
    "import sqlite3\n",
    "import sys\n",
    "# insert at 1, 0 is the script path (or '' in REPL)\n",
    "sys.path.insert(1, '../module1-introduction-to-sql')\n",
    "\n",
    "from rpg_queries import RPG"
   ]
  },
  {
   "cell_type": "code",
   "execution_count": 2,
   "metadata": {},
   "outputs": [],
   "source": [
    "db = 'rpg_db.sqlite3'\n",
    "characters_table = 'charactercreator_character'\n",
    "weapons_table = 'armory_weapon'\n",
    "items_table = 'armory_item'\n",
    "inventory_table = 'charactercreator_character_inventory'\n",
    "subclass_tables = ['charactercreator_cleric', 'charactercreator_fighter',\n",
    "                   'charactercreator_mage', 'charactercreator_thief']\n",
    "\n",
    "rpg = RPG(db)"
   ]
  },
  {
   "cell_type": "code",
   "execution_count": 109,
   "metadata": {},
   "outputs": [],
   "source": [
    "character_column_names, characters = rpg.fetchall(f\"SELECT * FROM {characters_table}\", True)\n",
    "characters = {\n",
    "            character[0]: {column_name: value for column_name, value in\n",
    "                           zip(character_column_names, character)} for\n",
    "            character in characters}"
   ]
  },
  {
   "cell_type": "code",
   "execution_count": 110,
   "metadata": {},
   "outputs": [
    {
     "data": {
      "text/plain": [
       "{'character_id': 1,\n",
       " 'name': 'Aliquid iste optio reiciendi',\n",
       " 'level': 0,\n",
       " 'exp': 0,\n",
       " 'hp': 10,\n",
       " 'strength': 1,\n",
       " 'intelligence': 1,\n",
       " 'dexterity': 1,\n",
       " 'wisdom': 1}"
      ]
     },
     "execution_count": 110,
     "metadata": {},
     "output_type": "execute_result"
    }
   ],
   "source": [
    "characters[1]"
   ]
  },
  {
   "cell_type": "code",
   "execution_count": 111,
   "metadata": {},
   "outputs": [],
   "source": [
    "subclass_data = {}\n",
    "\n",
    "for table in subclass_tables:\n",
    "    subclass = table.split(\"_\")[1]\n",
    "    \n",
    "    columns, rows = rpg.fetchall(f\"SELECT * FROM {table}\", True)\n",
    "    \n",
    "    data = {row[0]: {column_name: row for column_name, row in zip(columns[1:], row[1:])} for row in rows}\n",
    "    \n",
    "    subclass_data[subclass] = data"
   ]
  },
  {
   "cell_type": "code",
   "execution_count": 112,
   "metadata": {},
   "outputs": [],
   "source": [
    "for subclass, rows in subclass_data.items():\n",
    "    for id in rows.keys():\n",
    "        characters[id][subclass] = rows[id]"
   ]
  },
  {
   "cell_type": "code",
   "execution_count": 113,
   "metadata": {},
   "outputs": [
    {
     "data": {
      "text/plain": [
       "{'character_id': 1,\n",
       " 'name': 'Aliquid iste optio reiciendi',\n",
       " 'level': 0,\n",
       " 'exp': 0,\n",
       " 'hp': 10,\n",
       " 'strength': 1,\n",
       " 'intelligence': 1,\n",
       " 'dexterity': 1,\n",
       " 'wisdom': 1,\n",
       " 'fighter': {'using_shield': 0, 'rage': 100}}"
      ]
     },
     "execution_count": 113,
     "metadata": {},
     "output_type": "execute_result"
    }
   ],
   "source": [
    "characters[1]"
   ]
  },
  {
   "cell_type": "code",
   "execution_count": 114,
   "metadata": {},
   "outputs": [],
   "source": [
    "columns, rows = rpg.fetchall(f\"SELECT character_id, INV.item_id, name, value, weight FROM {items_table} as IT JOIN {inventory_table} as INV ON INV.item_id = IT.item_id\", True)"
   ]
  },
  {
   "cell_type": "code",
   "execution_count": 115,
   "metadata": {},
   "outputs": [
    {
     "data": {
      "text/plain": [
       "['character_id', 'item_id', 'name', 'value', 'weight']"
      ]
     },
     "execution_count": 115,
     "metadata": {},
     "output_type": "execute_result"
    }
   ],
   "source": [
    "columns"
   ]
  },
  {
   "cell_type": "code",
   "execution_count": 116,
   "metadata": {},
   "outputs": [
    {
     "data": {
      "text/plain": [
       "898"
      ]
     },
     "execution_count": 116,
     "metadata": {},
     "output_type": "execute_result"
    }
   ],
   "source": [
    "len(rows)"
   ]
  },
  {
   "cell_type": "code",
   "execution_count": 117,
   "metadata": {},
   "outputs": [],
   "source": [
    "inventory = {}\n",
    "\n",
    "for item in rows:\n",
    "    item_dict = {column: value for column, value in zip(columns[1:], item[1:])}\n",
    "    if item[0] in inventory:\n",
    "        inventory[item[0]].append(item_dict)\n",
    "    else:\n",
    "        inventory[item[0]] = [item_dict]"
   ]
  },
  {
   "cell_type": "code",
   "execution_count": 118,
   "metadata": {},
   "outputs": [],
   "source": [
    "for character_id, items in inventory.items():\n",
    "    characters[character_id]['inventory'] = items"
   ]
  },
  {
   "cell_type": "code",
   "execution_count": 119,
   "metadata": {},
   "outputs": [
    {
     "data": {
      "text/plain": [
       "{'character_id': 3,\n",
       " 'name': 'Minus c',\n",
       " 'level': 0,\n",
       " 'exp': 0,\n",
       " 'hp': 10,\n",
       " 'strength': 1,\n",
       " 'intelligence': 1,\n",
       " 'dexterity': 1,\n",
       " 'wisdom': 1,\n",
       " 'fighter': {'using_shield': 0, 'rage': 100},\n",
       " 'inventory': [{'item_id': 8, 'name': 'Saepe ea vo', 'value': 0, 'weight': 0},\n",
       "  {'item_id': 43, 'name': 'Tempore', 'value': 0, 'weight': 0}]}"
      ]
     },
     "execution_count": 119,
     "metadata": {},
     "output_type": "execute_result"
    }
   ],
   "source": [
    "characters[3]"
   ]
  },
  {
   "cell_type": "code",
   "execution_count": 120,
   "metadata": {},
   "outputs": [
    {
     "data": {
      "text/plain": [
       "{138: {'power': 0},\n",
       " 139: {'power': 0},\n",
       " 140: {'power': 0},\n",
       " 141: {'power': 0},\n",
       " 142: {'power': 0},\n",
       " 143: {'power': 0},\n",
       " 144: {'power': 0},\n",
       " 145: {'power': 0},\n",
       " 146: {'power': 0},\n",
       " 147: {'power': 0},\n",
       " 148: {'power': 0},\n",
       " 149: {'power': 0},\n",
       " 150: {'power': 0},\n",
       " 151: {'power': 0},\n",
       " 152: {'power': 0},\n",
       " 153: {'power': 0},\n",
       " 154: {'power': 0},\n",
       " 155: {'power': 0},\n",
       " 156: {'power': 0},\n",
       " 157: {'power': 0},\n",
       " 158: {'power': 0},\n",
       " 159: {'power': 0},\n",
       " 160: {'power': 0},\n",
       " 161: {'power': 0},\n",
       " 162: {'power': 0},\n",
       " 163: {'power': 0},\n",
       " 164: {'power': 0},\n",
       " 165: {'power': 0},\n",
       " 166: {'power': 0},\n",
       " 167: {'power': 0},\n",
       " 168: {'power': 0},\n",
       " 169: {'power': 0},\n",
       " 170: {'power': 0},\n",
       " 171: {'power': 0},\n",
       " 172: {'power': 0},\n",
       " 173: {'power': 0},\n",
       " 174: {'power': 0}}"
      ]
     },
     "execution_count": 120,
     "metadata": {},
     "output_type": "execute_result"
    }
   ],
   "source": [
    "columns, rows = rpg.fetchall(f\"SELECT * FROM {weapons_table}\", True)\n",
    "\n",
    "weapons = {row[0]: {column:value for column, value in zip(columns[1:], row[1:])} for row in rows}\n",
    "weapons"
   ]
  },
  {
   "cell_type": "code",
   "execution_count": 121,
   "metadata": {},
   "outputs": [],
   "source": [
    "for character_id, character in characters.items():\n",
    "    for idx, item in enumerate(character['inventory']):\n",
    "        item_id = item['item_id']\n",
    "        if item_id in weapons:\n",
    "            character['inventory'][idx]['power'] = weapons[item_id]['power']\n",
    "        \n",
    "        del character['inventory'][idx]['item_id']"
   ]
  },
  {
   "cell_type": "code",
   "execution_count": 123,
   "metadata": {},
   "outputs": [
    {
     "data": {
      "text/plain": [
       "{'character_id': 30,\n",
       " 'name': 'Possimus ad dignissimos vel, a',\n",
       " 'level': 0,\n",
       " 'exp': 0,\n",
       " 'hp': 10,\n",
       " 'strength': 1,\n",
       " 'intelligence': 1,\n",
       " 'dexterity': 1,\n",
       " 'wisdom': 1,\n",
       " 'fighter': {'using_shield': 0, 'rage': 100},\n",
       " 'inventory': [{'name': 'Error eveniet ipsum, expedi',\n",
       "   'value': 0,\n",
       "   'weight': 0},\n",
       "  {'name': 'Minus illum vo', 'value': 0, 'weight': 0},\n",
       "  {'name': 'Sunt doloremque recusanda', 'value': 0, 'weight': 0},\n",
       "  {'name': 'Corrupti sit at cum', 'value': 0, 'weight': 0, 'power': 0}]}"
      ]
     },
     "execution_count": 123,
     "metadata": {},
     "output_type": "execute_result"
    }
   ],
   "source": [
    "characters[30]"
   ]
  },
  {
   "cell_type": "code",
   "execution_count": 124,
   "metadata": {},
   "outputs": [],
   "source": [
    "import json\n",
    "with open('rpg.json', 'w') as fp:\n",
    "    json.dump(characters, fp)"
   ]
  }
 ],
 "metadata": {
  "kernelspec": {
   "display_name": "Python 3",
   "language": "python",
   "name": "python3"
  },
  "language_info": {
   "codemirror_mode": {
    "name": "ipython",
    "version": 3
   },
   "file_extension": ".py",
   "mimetype": "text/x-python",
   "name": "python",
   "nbconvert_exporter": "python",
   "pygments_lexer": "ipython3",
   "version": "3.7.5"
  }
 },
 "nbformat": 4,
 "nbformat_minor": 2
}
