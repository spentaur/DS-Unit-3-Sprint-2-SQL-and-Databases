{
 "cells": [
  {
   "cell_type": "code",
   "execution_count": 1,
   "metadata": {},
   "outputs": [
    {
     "data": {
      "text/plain": [
       "True"
      ]
     },
     "execution_count": 1,
     "metadata": {},
     "output_type": "execute_result"
    }
   ],
   "source": [
    "from Mongo import Mongo\n",
    "import os\n",
    "from pprint import pprint as pprint\n",
    "from dotenv import load_dotenv\n",
    "\n",
    "load_dotenv()"
   ]
  },
  {
   "cell_type": "code",
   "execution_count": 4,
   "metadata": {},
   "outputs": [],
   "source": [
    "user = os.getenv(\"DB_USER\")\n",
    "password = os.getenv(\"DB_PASSWORD\")\n",
    "db = \"rpg\"\n",
    "collection = \"rpg_collection\"\n",
    "\n",
    "rpg = Mongo(user, password, db, collection)"
   ]
  },
  {
   "cell_type": "code",
   "execution_count": 5,
   "metadata": {},
   "outputs": [],
   "source": [
    "questions = \"\"\"\n",
    "    How many total Characters are there?\n",
    "    How many of each specific subclass?\n",
    "    How many total Items?\n",
    "    How many of the Items are weapons? How many are not?\n",
    "    How many Items does each character have? (Return first 20 rows)\n",
    "    How many Weapons does each character have? (Return first 20 rows)\n",
    "    On average, how many Items does each Character have?\n",
    "    On average, how many Weapons does each character have?\n",
    "\"\"\"\n",
    "questions = questions.split(\"\\n\")[1:-1]\n",
    "user = os.getenv(\"DB_USER\")\n",
    "password = os.getenv(\"DB_PASSWORD\")\n",
    "db = \"rpg\"\n",
    "collection = \"rpg_collection\"\n",
    "\n",
    "rpg = Mongo(user, password, db, collection)"
   ]
  }
 ],
 "metadata": {
  "kernelspec": {
   "display_name": "Python 3",
   "language": "python",
   "name": "python3"
  },
  "language_info": {
   "codemirror_mode": {
    "name": "ipython",
    "version": 3
   },
   "file_extension": ".py",
   "mimetype": "text/x-python",
   "name": "python",
   "nbconvert_exporter": "python",
   "pygments_lexer": "ipython3",
   "version": "3.7.5"
  }
 },
 "nbformat": 4,
 "nbformat_minor": 2
}
